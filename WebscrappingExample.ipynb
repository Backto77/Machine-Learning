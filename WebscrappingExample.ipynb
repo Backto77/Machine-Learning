{
  "nbformat": 4,
  "nbformat_minor": 0,
  "metadata": {
    "colab": {
      "name": "WebscrappingExample.ipynb",
      "provenance": [],
      "collapsed_sections": [],
      "include_colab_link": true
    },
    "kernelspec": {
      "name": "python3",
      "display_name": "Python 3"
    },
    "accelerator": "GPU"
  },
  "cells": [
    {
      "cell_type": "markdown",
      "metadata": {
        "id": "view-in-github",
        "colab_type": "text"
      },
      "source": [
        "<a href=\"https://colab.research.google.com/github/Backto77/Machine-Learning/blob/master/WebscrappingExample.ipynb\" target=\"_parent\"><img src=\"https://colab.research.google.com/assets/colab-badge.svg\" alt=\"Open In Colab\"/></a>"
      ]
    },
    {
      "cell_type": "markdown",
      "metadata": {
        "id": "hHD1Zjie3aWo",
        "colab_type": "text"
      },
      "source": [
        "***Importamos las librería correspondientes***"
      ]
    },
    {
      "cell_type": "code",
      "metadata": {
        "id": "F4rSqtPu2kJj",
        "colab_type": "code",
        "colab": {}
      },
      "source": [
        "import requests\n",
        "from bs4 import BeautifulSoup\n",
        "import csv\n",
        "from datetime import datetime"
      ],
      "execution_count": 0,
      "outputs": []
    },
    {
      "cell_type": "markdown",
      "metadata": {
        "id": "0qlpMxVD3yoy",
        "colab_type": "text"
      },
      "source": [
        "***Se indica la url de donde queremos sacar los datos***"
      ]
    },
    {
      "cell_type": "code",
      "metadata": {
        "id": "JJ0NYB_F3fm5",
        "colab_type": "code",
        "colab": {}
      },
      "source": [
        "url_page = 'http://www.duoc.cl/relaciones-internacionales/intercambios'"
      ],
      "execution_count": 0,
      "outputs": []
    },
    {
      "cell_type": "markdown",
      "metadata": {
        "id": "F00dUdHH5wJa",
        "colab_type": "text"
      },
      "source": [
        "***Y ahora haremos el request a esa ruta y procesaremos el HTML mediante un objeto de tipo BeautifulSoap***"
      ]
    },
    {
      "cell_type": "code",
      "metadata": {
        "id": "TY4X-6IG50Jf",
        "colab_type": "code",
        "colab": {}
      },
      "source": [
        "page = requests.get(url_page).text \n",
        "soup = BeautifulSoup(page, \"lxml\")"
      ],
      "execution_count": 0,
      "outputs": []
    },
    {
      "cell_type": "markdown",
      "metadata": {
        "id": "vM3IOnz658vZ",
        "colab_type": "text"
      },
      "source": [
        "***Guardamos la Tabla***"
      ]
    },
    {
      "cell_type": "code",
      "metadata": {
        "id": "nscdT8Bc6CrX",
        "colab_type": "code",
        "colab": {}
      },
      "source": [
        "data = []\n",
        "tabla = soup.find('table', attrs={'cellpadding' : '2', 'cellspacing' : '2'})\n",
        "#tabla\n"
      ],
      "execution_count": 0,
      "outputs": []
    },
    {
      "cell_type": "markdown",
      "metadata": {
        "id": "p3qNOg9Y9i5B",
        "colab_type": "text"
      },
      "source": [
        "***Poner los resultados en variables***\n",
        "`(Para obtener solo lo primeros valores)`"
      ]
    },
    {
      "cell_type": "code",
      "metadata": {
        "id": "HNEK17HR9yd6",
        "colab_type": "code",
        "outputId": "863887cd-52ee-4576-c3dc-f10ad67a07e6",
        "colab": {
          "base_uri": "https://localhost:8080/",
          "height": 51
        }
      },
      "source": [
        "pais=\"\"\n",
        "institucion=\"\"\n",
        "nroFila=0\n",
        "for fila in tabla.find_all(\"tr\"):\n",
        "    if nroFila==5:\n",
        "        nroCelda=0\n",
        "        for celda in fila.find_all('td'):\n",
        "            if nroCelda==0:\n",
        "                pais=celda.text\n",
        "                print(\"Pais:\", pais)\n",
        "            if nroCelda==1:\n",
        "                institucion=celda.text\n",
        "                print(\"Institucion:\", institucion)\n",
        "            nroCelda=nroCelda+1\n",
        "    nroFila=nroFila+1"
      ],
      "execution_count": 0,
      "outputs": [
        {
          "output_type": "stream",
          "text": [
            "Pais: Alemania\n",
            "Institucion: Fachhochschule Würzburg - Schweinfurt\n"
          ],
          "name": "stdout"
        }
      ]
    },
    {
      "cell_type": "markdown",
      "metadata": {
        "id": "lG-qyXnzSRi0",
        "colab_type": "text"
      },
      "source": [
        "***Codigo para exportarlo a CSV y verlo en Excel***"
      ]
    },
    {
      "cell_type": "code",
      "metadata": {
        "id": "YRHvO8ETVDHK",
        "colab_type": "code",
        "colab": {}
      },
      "source": [
        "#from datetime import date\n",
        "#today = str(date.today())\n",
        "#OPCIONAL PARA LA FECHA\n",
        "with open('tabla_intercambiosInternacionales.csv', 'a') as csv_file:\n",
        "    writer = csv.writer(csv_file)\n",
        "    writer.writerow([\"Pais\", \"Institucion\", \"Fecha\"]) #ETIQUETAS\n",
        "    writer.writerow([pais, institucion, today]) #ATRIBUTOS"
      ],
      "execution_count": 0,
      "outputs": []
    },
    {
      "cell_type": "markdown",
      "metadata": {
        "id": "hdiRXnCelDNK",
        "colab_type": "text"
      },
      "source": [
        "**Para obtener todos los resultados**"
      ]
    },
    {
      "cell_type": "code",
      "metadata": {
        "id": "neIZhgDEgqCJ",
        "colab_type": "code",
        "colab": {}
      },
      "source": [
        "for tr in soup.find_all('tr')[1:]:\n",
        "    tds = tr.find_all('td')\n",
        "    print (\"Pais: %s, Institucion: %s, Áreas para intercambio: %s\" % (tds[0].text, tds[1].text, tds[2].text))"
      ],
      "execution_count": 0,
      "outputs": []
    },
    {
      "cell_type": "markdown",
      "metadata": {
        "colab_type": "text",
        "id": "uHcBq8bDmEfV"
      },
      "source": [
        "***Codigo para exportarlo a CSV y verlo en Excel***"
      ]
    },
    {
      "cell_type": "code",
      "metadata": {
        "id": "Hzm5P8jVh2-Q",
        "colab_type": "code",
        "colab": {}
      },
      "source": [
        "#from datetime import date\n",
        "#today = str(date.today())\n",
        "#OPCIONAL PARA LA FECHA\n",
        "with open('tabla_intercambiosInternacionales.csv', 'a') as csv_file:\n",
        "    writer = csv.writer(csv_file)\n",
        "    writer.writerow([\"Pais\", \"Institucion\", \"Areas para intercambio\"])\n",
        "    for tr in soup.find_all('tr')[1:]:\n",
        "        tds = tr.find_all('td')\n",
        "        writer.writerow([tds[0].text, tds[1].text, tds[2].text])"
      ],
      "execution_count": 0,
      "outputs": []
    }
  ]
}